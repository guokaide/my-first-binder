{
 "cells": [
  {
   "cell_type": "markdown",
   "source": [
    "# Quick Start Python\n",
    "\n",
    "## 宏观认识\n",
    "程序 = 数据结构 + 算法\n",
    "\n",
    "## 数据结构\n",
    "* 整型 int\n",
    "* 字符串 string\n",
    "* 数组 A[n]\n",
    "* 字典 [key : value] [90 : 3] \n",
    "* ...\n",
    "\n",
    "## 算法\n",
    "* function\n",
    "\n",
    "A[n]: [1, 2, 3, 4, 5, 6] 找到和为 7 的 2 个数。\n",
    "\n",
    "算法：求解这个问题的代码实现 + 理论实现\n",
    "\n",
    "理论实现：\n",
    "\n",
    "y = f(a, target)\n",
    "\n",
    "代码实现：\n",
    "\n",
    "```python\n",
    "def f(a, target) -> []:\n",
    "  for i in range(len(a)):\n",
    "    for j in range(i+1, len(a)):\n",
    "        if a[i] + a[j] == target:\n",
    "            return [a[i], a[j]] \n",
    "  return []\n",
    "```\n",
    "\n",
    "## 模块化\n",
    "项目由一个个模块组成，即项目 = [模块1, 模块2，...]\n",
    "\n",
    "## 一. 输出与输入\n",
    "`print`"
   ],
   "metadata": {
    "collapsed": false,
    "pycharm": {
     "name": "#%% md\n"
    }
   }
  },
  {
   "cell_type": "code",
   "execution_count": 4,
   "outputs": [
    {
     "name": "stdout",
     "output_type": "stream",
     "text": [
      "Hello, Python\n"
     ]
    }
   ],
   "source": [
    "print(\"Hello, Python\")"
   ],
   "metadata": {
    "collapsed": false,
    "pycharm": {
     "name": "#%%\n"
    }
   }
  },
  {
   "cell_type": "code",
   "execution_count": 1,
   "outputs": [
    {
     "name": "stdout",
     "output_type": "stream",
     "text": [
      "Hi, kai.\n"
     ]
    }
   ],
   "source": [
    "name = input('What is your name?\\n')\n",
    "print('Hi, %s.' % name)"
   ],
   "metadata": {
    "collapsed": false,
    "pycharm": {
     "name": "#%%\n"
    }
   }
  },
  {
   "cell_type": "markdown",
   "source": [
    "## 二. 行与缩进"
   ],
   "metadata": {
    "collapsed": false
   }
  },
  {
   "cell_type": "code",
   "source": [
    "# 分支逻辑\n",
    "if True:\n",
    "    print(\"True\")\n",
    "else:\n",
    "    print(\"False\")\n"
   ],
   "metadata": {
    "collapsed": false,
    "pycharm": {
     "name": "#%%\n"
    }
   },
   "execution_count": 3,
   "outputs": [
    {
     "name": "stdout",
     "output_type": "stream",
     "text": [
      "True\n"
     ]
    }
   ]
  },
  {
   "cell_type": "markdown",
   "source": [
    "## 三. 基本数据类型\n",
    "### 数字（Number）类型\n",
    "* int, e.g. 1\n",
    "* bool, e.g. True, False\n",
    "* float, e.g. 1.23, 3E-2\n",
    "* complex, e.g. 1 + 2j\n",
    "\n",
    "### 字符串（String）\n",
    "* ' ', e.g. 'a'\n",
    "* \" \", e.g. \"I am a String\""
   ],
   "metadata": {
    "collapsed": false
   }
  },
  {
   "cell_type": "markdown",
   "source": [
    "## 四. 变量"
   ],
   "metadata": {
    "collapsed": false,
    "pycharm": {
     "name": "#%% md\n"
    }
   }
  },
  {
   "cell_type": "markdown",
   "source": [
    "## 五. 分支语句\n"
   ],
   "metadata": {
    "collapsed": false,
    "pycharm": {
     "name": "#%% md\n"
    }
   }
  },
  {
   "cell_type": "code",
   "execution_count": 4,
   "outputs": [
    {
     "name": "stdout",
     "output_type": "stream",
     "text": [
      "x greater than 10\n"
     ]
    }
   ],
   "source": [
    "x = 20\n",
    "if x > 10:\n",
    "    print(\"x is greater than 10\")\n",
    "elif x >= 5:\n",
    "    print(\"x is between 5 and 10\")\n",
    "else:\n",
    "    print(\"x is less than 5\")"
   ],
   "metadata": {
    "collapsed": false,
    "pycharm": {
     "name": "#%%\n"
    }
   }
  },
  {
   "cell_type": "markdown",
   "source": [
    "## 六. 循环语句"
   ],
   "metadata": {
    "collapsed": false,
    "pycharm": {
     "name": "#%% md\n"
    }
   }
  },
  {
   "cell_type": "code",
   "execution_count": 8,
   "outputs": [
    {
     "name": "stdout",
     "output_type": "stream",
     "text": [
      "Panda Bao Bao.0\n",
      "Panda Bao Bao.1\n",
      "Panda Bao Bao.2\n",
      "Panda Bao Bao.3\n",
      "Panda Bao Bao.4\n",
      "Panda Bao Bao.0\n",
      "Panda Bao Bao.1\n",
      "Panda Bao Bao.2\n",
      "Panda Bao Bao.3\n",
      "Panda Bao Bao.4\n"
     ]
    }
   ],
   "source": [
    "# range(5) = [0, 1, 2, 3, 4]\n",
    "for i in range(5):\n",
    "    # 循环\n",
    "    print(\"Panda Bao Bao.\" + str(i))"
   ],
   "metadata": {
    "collapsed": false,
    "pycharm": {
     "name": "#%%\n"
    }
   }
  },
  {
   "cell_type": "code",
   "execution_count": 1,
   "outputs": [
    {
     "name": "stdout",
     "output_type": "stream",
     "text": [
      "Panda Bao Bao.0\n",
      "Panda Bao Bao.1\n",
      "Panda Bao Bao.2\n",
      "Panda Bao Bao.3\n",
      "Panda Bao Bao.4\n"
     ]
    }
   ],
   "source": [
    "i = 0\n",
    "while (i < 5):\n",
    "   print(\"Panda Bao Bao.\" + str(i))\n",
    "   i += 1"
   ],
   "metadata": {
    "collapsed": false,
    "pycharm": {
     "name": "#%%\n"
    }
   }
  },
  {
   "cell_type": "markdown",
   "source": [
    "## Appendix\n",
    "* [Python编程：从入门到实践](https://www.dedao.cn/reader?id=DLnMGAEG7gKLyYmkAbPaEXxD8BM4J0L1axWROrpdZn19VNzv2o5e6lqjQQ1poxqy)\n",
    "* [练习环境](https://replit.com/@RongBaoBao/StartPython#main.py)\n"
   ],
   "metadata": {
    "collapsed": false,
    "pycharm": {
     "name": "#%% md\n"
    }
   }
  }
 ],
 "metadata": {
  "kernelspec": {
   "name": "python3",
   "language": "python",
   "display_name": "Python 3"
  },
  "language_info": {
   "codemirror_mode": {
    "name": "ipython",
    "version": 2
   },
   "file_extension": ".py",
   "mimetype": "text/x-python",
   "name": "python",
   "nbconvert_exporter": "python",
   "pygments_lexer": "ipython2",
   "version": "2.7.6"
  }
 },
 "nbformat": 4,
 "nbformat_minor": 0
}