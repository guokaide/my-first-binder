{
 "cells": [
  {
   "cell_type": "markdown",
   "source": [
    "# Quick Start Python\n",
    "\n",
    "## 宏观认识\n",
    "程序 = 数据结构 + 算法\n",
    "\n",
    "## 数据结构\n",
    "* 整型 int\n",
    "* 字符串 string\n",
    "* 数组 A[n]\n",
    "* 字典 [key : value] [90 : 3] \n",
    "* ...\n",
    "\n",
    "## 算法\n",
    "* function\n",
    "\n",
    "A[n]: [1, 2, 3, 4, 5, 6] 找到和为 7 的 2 个数。\n",
    "\n",
    "算法：求解这个问题的代码实现 + 理论实现\n",
    "\n",
    "理论实现：\n",
    "\n",
    "y = f(a, target)\n",
    "\n",
    "代码实现：\n",
    "\n",
    "```python\n",
    "def f(a, target) -> []:\n",
    "  for i in range(len(a)):\n",
    "    for j in range(i+1, len(a)):\n",
    "        if a[i] + a[j] == target:\n",
    "            return [a[i], a[j]] \n",
    "  return []\n",
    "```\n",
    "\n",
    "## 一. 输出\n",
    "`print`"
   ],
   "metadata": {
    "collapsed": false,
    "pycharm": {
     "name": "#%% md\n"
    }
   }
  },
  {
   "cell_type": "code",
   "execution_count": 4,
   "outputs": [
    {
     "name": "stdout",
     "output_type": "stream",
     "text": [
      "Hello, Python\n"
     ]
    }
   ],
   "source": [
    "print(\"Hello, Python\")"
   ],
   "metadata": {
    "collapsed": false,
    "pycharm": {
     "name": "#%%\n"
    }
   }
  },
  {
   "cell_type": "markdown",
   "source": [
    "## 二. 行与缩进"
   ],
   "metadata": {
    "collapsed": false
   }
  },
  {
   "cell_type": "code",
   "source": [
    "# 分支逻辑\n",
    "if True:\n",
    "    print(\"True\")\n",
    "else:\n",
    "    print(\"False\")\n"
   ],
   "metadata": {
    "collapsed": false,
    "pycharm": {
     "name": "#%%\n"
    }
   },
   "execution_count": 3,
   "outputs": [
    {
     "name": "stdout",
     "output_type": "stream",
     "text": [
      "True\n"
     ]
    }
   ]
  },
  {
   "cell_type": "markdown",
   "source": [
    "## 三. 基本数据类型\n",
    "### 数字（Number）类型\n",
    "* int, e.g. 1\n",
    "* bool, e.g. True, False\n",
    "* float, e.g. 1.23, 3E-2\n",
    "* complex, e.g. 1 + 2j\n",
    "\n",
    "### 字符串（String）\n",
    "* ' ', e.g. 'a'\n",
    "* \" \", e.g. \"I am a String\""
   ],
   "metadata": {
    "collapsed": false
   }
  },
  {
   "cell_type": "markdown",
   "source": [
    "## 四. 变量\n",
    "\n"
   ],
   "metadata": {
    "collapsed": false,
    "pycharm": {
     "name": "#%% md\n"
    }
   }
  }
 ],
 "metadata": {
  "kernelspec": {
   "name": "python3",
   "language": "python",
   "display_name": "Python 3"
  },
  "language_info": {
   "codemirror_mode": {
    "name": "ipython",
    "version": 2
   },
   "file_extension": ".py",
   "mimetype": "text/x-python",
   "name": "python",
   "nbconvert_exporter": "python",
   "pygments_lexer": "ipython2",
   "version": "2.7.6"
  }
 },
 "nbformat": 4,
 "nbformat_minor": 0
}